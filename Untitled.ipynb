{
 "cells": [
  {
   "cell_type": "code",
   "execution_count": 1,
   "id": "3f125e05-ce7e-49b9-a095-477e4a7d206c",
   "metadata": {},
   "outputs": [],
   "source": [
    "import pandas as pd\n",
    "df = pd.read_csv('Zara_Sales_Analysis.csv')"
   ]
  },
  {
   "cell_type": "code",
   "execution_count": null,
   "id": "b764b8b2-ba5c-45ef-8cb0-c36244236044",
   "metadata": {},
   "outputs": [],
   "source": [
    "print(df)"
   ]
  },
  {
   "cell_type": "code",
   "execution_count": 5,
   "id": "9b33a9ce-0930-4ffd-9a1d-ea2a18cd2afd",
   "metadata": {},
   "outputs": [
    {
     "data": {
      "text/plain": [
       "Product ID          0\n",
       "Product Position    0\n",
       "Promotion           0\n",
       "Product Category    0\n",
       "Seasonal            0\n",
       "Sales Volume        0\n",
       "brand               0\n",
       "url                 0\n",
       "sku                 0\n",
       "name                0\n",
       "description         1\n",
       "price               0\n",
       "currency            0\n",
       "scraped_at          0\n",
       "terms               0\n",
       "section             0\n",
       "dtype: int64"
      ]
     },
     "execution_count": 5,
     "metadata": {},
     "output_type": "execute_result"
    }
   ],
   "source": [
    "df.isnull().sum()"
   ]
  },
  {
   "cell_type": "code",
   "execution_count": 4,
   "id": "581924e5-3032-4678-86af-5851a3785661",
   "metadata": {},
   "outputs": [],
   "source": [
    "df = df.dropna(subset='name')"
   ]
  },
  {
   "cell_type": "code",
   "execution_count": 7,
   "id": "173e9773-7414-44df-94ff-ee4760d27570",
   "metadata": {},
   "outputs": [
    {
     "data": {
      "text/plain": [
       "np.int64(0)"
      ]
     },
     "execution_count": 7,
     "metadata": {},
     "output_type": "execute_result"
    }
   ],
   "source": []
  },
  {
   "cell_type": "code",
   "execution_count": 8,
   "id": "cd72ed74-176c-4368-a09a-6b5a1bf9c74f",
   "metadata": {},
   "outputs": [],
   "source": [
    "df = df.drop(columns=['url', 'sku', 'name', 'description', 'scraped_at', ])"
   ]
  },
  {
   "cell_type": "code",
   "execution_count": 10,
   "id": "b012e73b-594e-411f-bc4d-9be5de2f4afd",
   "metadata": {},
   "outputs": [
    {
     "name": "stdout",
     "output_type": "stream",
     "text": [
      "<class 'pandas.core.frame.DataFrame'>\n",
      "Index: 251 entries, 0 to 251\n",
      "Data columns (total 11 columns):\n",
      " #   Column            Non-Null Count  Dtype  \n",
      "---  ------            --------------  -----  \n",
      " 0   Product ID        251 non-null    int64  \n",
      " 1   Product Position  251 non-null    object \n",
      " 2   Promotion         251 non-null    object \n",
      " 3   Product Category  251 non-null    object \n",
      " 4   Seasonal          251 non-null    object \n",
      " 5   Sales Volume      251 non-null    int64  \n",
      " 6   brand             251 non-null    object \n",
      " 7   price             251 non-null    float64\n",
      " 8   currency          251 non-null    object \n",
      " 9   terms             251 non-null    object \n",
      " 10  section           251 non-null    object \n",
      "dtypes: float64(1), int64(2), object(8)\n",
      "memory usage: 23.5+ KB\n"
     ]
    }
   ],
   "source": [
    "df.info()"
   ]
  },
  {
   "cell_type": "code",
   "execution_count": 11,
   "id": "2bcb7c72-e81e-4f1a-a377-6d527eb37596",
   "metadata": {},
   "outputs": [],
   "source": [
    "df.to_csv('Zara_Sales_Cleaned_Data.csv')"
   ]
  }
 ],
 "metadata": {
  "kernelspec": {
   "display_name": "Python 3 (ipykernel)",
   "language": "python",
   "name": "python3"
  },
  "language_info": {
   "codemirror_mode": {
    "name": "ipython",
    "version": 3
   },
   "file_extension": ".py",
   "mimetype": "text/x-python",
   "name": "python",
   "nbconvert_exporter": "python",
   "pygments_lexer": "ipython3",
   "version": "3.13.5"
  }
 },
 "nbformat": 4,
 "nbformat_minor": 5
}
